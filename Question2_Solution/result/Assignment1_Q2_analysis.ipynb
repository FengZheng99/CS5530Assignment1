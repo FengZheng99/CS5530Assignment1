{
  "nbformat": 4,
  "nbformat_minor": 0,
  "metadata": {
    "colab": {
      "provenance": []
    },
    "kernelspec": {
      "name": "python3",
      "display_name": "Python 3"
    },
    "language_info": {
      "name": "python"
    }
  },
  "cells": [
    {
      "cell_type": "code",
      "execution_count": 84,
      "metadata": {
        "id": "m7ueLG4f9Kjy"
      },
      "outputs": [],
      "source": [
        "# import necessary libraries\n",
        "import pandas as pd\n",
        "import matplotlib.pyplot as plt\n",
        "import numpy as np"
      ]
    },
    {
      "cell_type": "code",
      "source": [
        "# read the CSV file\n",
        "df = pd.read_csv('/content/clean_StudentsPerformance.csv',)\n",
        "df = df.drop(df.columns[0], axis=1)\n",
        "df.head()"
      ],
      "metadata": {
        "colab": {
          "base_uri": "https://localhost:8080/",
          "height": 206
        },
        "id": "NPY_dwJx9PCU",
        "outputId": "df669e35-adcd-483f-fe88-856e4b780edc"
      },
      "execution_count": 85,
      "outputs": [
        {
          "output_type": "execute_result",
          "data": {
            "text/plain": [
              "   gender race/ethnicity  parental_education         lunch preparation_course  \\\n",
              "0  female        group B   bachelor's degree      standard               none   \n",
              "1  female        group C        some college      standard          completed   \n",
              "2  female        group B     master's degree      standard               none   \n",
              "3    male        group A  associate's degree  free/reduced               none   \n",
              "4    male        group C        some college      standard               none   \n",
              "\n",
              "   math_score  reading_score  writing_score  average_score  \n",
              "0          72             72             74          72.67  \n",
              "1          69             90             88          82.33  \n",
              "2          90             95             93          92.67  \n",
              "3          47             57             44          49.33  \n",
              "4          76             78             75          76.33  "
            ],
            "text/html": [
              "\n",
              "  <div id=\"df-c7adbd3d-67ba-4fc6-a05b-7a2d39e25397\">\n",
              "    <div class=\"colab-df-container\">\n",
              "      <div>\n",
              "<style scoped>\n",
              "    .dataframe tbody tr th:only-of-type {\n",
              "        vertical-align: middle;\n",
              "    }\n",
              "\n",
              "    .dataframe tbody tr th {\n",
              "        vertical-align: top;\n",
              "    }\n",
              "\n",
              "    .dataframe thead th {\n",
              "        text-align: right;\n",
              "    }\n",
              "</style>\n",
              "<table border=\"1\" class=\"dataframe\">\n",
              "  <thead>\n",
              "    <tr style=\"text-align: right;\">\n",
              "      <th></th>\n",
              "      <th>gender</th>\n",
              "      <th>race/ethnicity</th>\n",
              "      <th>parental_education</th>\n",
              "      <th>lunch</th>\n",
              "      <th>preparation_course</th>\n",
              "      <th>math_score</th>\n",
              "      <th>reading_score</th>\n",
              "      <th>writing_score</th>\n",
              "      <th>average_score</th>\n",
              "    </tr>\n",
              "  </thead>\n",
              "  <tbody>\n",
              "    <tr>\n",
              "      <th>0</th>\n",
              "      <td>female</td>\n",
              "      <td>group B</td>\n",
              "      <td>bachelor's degree</td>\n",
              "      <td>standard</td>\n",
              "      <td>none</td>\n",
              "      <td>72</td>\n",
              "      <td>72</td>\n",
              "      <td>74</td>\n",
              "      <td>72.67</td>\n",
              "    </tr>\n",
              "    <tr>\n",
              "      <th>1</th>\n",
              "      <td>female</td>\n",
              "      <td>group C</td>\n",
              "      <td>some college</td>\n",
              "      <td>standard</td>\n",
              "      <td>completed</td>\n",
              "      <td>69</td>\n",
              "      <td>90</td>\n",
              "      <td>88</td>\n",
              "      <td>82.33</td>\n",
              "    </tr>\n",
              "    <tr>\n",
              "      <th>2</th>\n",
              "      <td>female</td>\n",
              "      <td>group B</td>\n",
              "      <td>master's degree</td>\n",
              "      <td>standard</td>\n",
              "      <td>none</td>\n",
              "      <td>90</td>\n",
              "      <td>95</td>\n",
              "      <td>93</td>\n",
              "      <td>92.67</td>\n",
              "    </tr>\n",
              "    <tr>\n",
              "      <th>3</th>\n",
              "      <td>male</td>\n",
              "      <td>group A</td>\n",
              "      <td>associate's degree</td>\n",
              "      <td>free/reduced</td>\n",
              "      <td>none</td>\n",
              "      <td>47</td>\n",
              "      <td>57</td>\n",
              "      <td>44</td>\n",
              "      <td>49.33</td>\n",
              "    </tr>\n",
              "    <tr>\n",
              "      <th>4</th>\n",
              "      <td>male</td>\n",
              "      <td>group C</td>\n",
              "      <td>some college</td>\n",
              "      <td>standard</td>\n",
              "      <td>none</td>\n",
              "      <td>76</td>\n",
              "      <td>78</td>\n",
              "      <td>75</td>\n",
              "      <td>76.33</td>\n",
              "    </tr>\n",
              "  </tbody>\n",
              "</table>\n",
              "</div>\n",
              "      <button class=\"colab-df-convert\" onclick=\"convertToInteractive('df-c7adbd3d-67ba-4fc6-a05b-7a2d39e25397')\"\n",
              "              title=\"Convert this dataframe to an interactive table.\"\n",
              "              style=\"display:none;\">\n",
              "        \n",
              "  <svg xmlns=\"http://www.w3.org/2000/svg\" height=\"24px\"viewBox=\"0 0 24 24\"\n",
              "       width=\"24px\">\n",
              "    <path d=\"M0 0h24v24H0V0z\" fill=\"none\"/>\n",
              "    <path d=\"M18.56 5.44l.94 2.06.94-2.06 2.06-.94-2.06-.94-.94-2.06-.94 2.06-2.06.94zm-11 1L8.5 8.5l.94-2.06 2.06-.94-2.06-.94L8.5 2.5l-.94 2.06-2.06.94zm10 10l.94 2.06.94-2.06 2.06-.94-2.06-.94-.94-2.06-.94 2.06-2.06.94z\"/><path d=\"M17.41 7.96l-1.37-1.37c-.4-.4-.92-.59-1.43-.59-.52 0-1.04.2-1.43.59L10.3 9.45l-7.72 7.72c-.78.78-.78 2.05 0 2.83L4 21.41c.39.39.9.59 1.41.59.51 0 1.02-.2 1.41-.59l7.78-7.78 2.81-2.81c.8-.78.8-2.07 0-2.86zM5.41 20L4 18.59l7.72-7.72 1.47 1.35L5.41 20z\"/>\n",
              "  </svg>\n",
              "      </button>\n",
              "      \n",
              "  <style>\n",
              "    .colab-df-container {\n",
              "      display:flex;\n",
              "      flex-wrap:wrap;\n",
              "      gap: 12px;\n",
              "    }\n",
              "\n",
              "    .colab-df-convert {\n",
              "      background-color: #E8F0FE;\n",
              "      border: none;\n",
              "      border-radius: 50%;\n",
              "      cursor: pointer;\n",
              "      display: none;\n",
              "      fill: #1967D2;\n",
              "      height: 32px;\n",
              "      padding: 0 0 0 0;\n",
              "      width: 32px;\n",
              "    }\n",
              "\n",
              "    .colab-df-convert:hover {\n",
              "      background-color: #E2EBFA;\n",
              "      box-shadow: 0px 1px 2px rgba(60, 64, 67, 0.3), 0px 1px 3px 1px rgba(60, 64, 67, 0.15);\n",
              "      fill: #174EA6;\n",
              "    }\n",
              "\n",
              "    [theme=dark] .colab-df-convert {\n",
              "      background-color: #3B4455;\n",
              "      fill: #D2E3FC;\n",
              "    }\n",
              "\n",
              "    [theme=dark] .colab-df-convert:hover {\n",
              "      background-color: #434B5C;\n",
              "      box-shadow: 0px 1px 3px 1px rgba(0, 0, 0, 0.15);\n",
              "      filter: drop-shadow(0px 1px 2px rgba(0, 0, 0, 0.3));\n",
              "      fill: #FFFFFF;\n",
              "    }\n",
              "  </style>\n",
              "\n",
              "      <script>\n",
              "        const buttonEl =\n",
              "          document.querySelector('#df-c7adbd3d-67ba-4fc6-a05b-7a2d39e25397 button.colab-df-convert');\n",
              "        buttonEl.style.display =\n",
              "          google.colab.kernel.accessAllowed ? 'block' : 'none';\n",
              "\n",
              "        async function convertToInteractive(key) {\n",
              "          const element = document.querySelector('#df-c7adbd3d-67ba-4fc6-a05b-7a2d39e25397');\n",
              "          const dataTable =\n",
              "            await google.colab.kernel.invokeFunction('convertToInteractive',\n",
              "                                                     [key], {});\n",
              "          if (!dataTable) return;\n",
              "\n",
              "          const docLinkHtml = 'Like what you see? Visit the ' +\n",
              "            '<a target=\"_blank\" href=https://colab.research.google.com/notebooks/data_table.ipynb>data table notebook</a>'\n",
              "            + ' to learn more about interactive tables.';\n",
              "          element.innerHTML = '';\n",
              "          dataTable['output_type'] = 'display_data';\n",
              "          await google.colab.output.renderOutput(dataTable, element);\n",
              "          const docLink = document.createElement('div');\n",
              "          docLink.innerHTML = docLinkHtml;\n",
              "          element.appendChild(docLink);\n",
              "        }\n",
              "      </script>\n",
              "    </div>\n",
              "  </div>\n",
              "  "
            ]
          },
          "metadata": {},
          "execution_count": 85
        }
      ]
    },
    {
      "cell_type": "code",
      "source": [
        "# show the relationship between preparation course versus average score\n",
        "a = df.groupby(['preparation_course']).mean()\n",
        "a = a.T\n",
        "print(a)\n",
        "\n",
        "# plot\n",
        "a.plot.bar()\n",
        "plt.ylabel('Score')\n",
        "plt.xlabel('Test score')\n",
        "plt.xticks(rotation=30)\n",
        "plt.ylim(50)\n",
        "plt.title('Preparation Course versus Average Score')\n",
        "plt.show()\n",
        "\n",
        "print(\"\\nBar chart can clealy shows the difference between preparation course\")"
      ],
      "metadata": {
        "colab": {
          "base_uri": "https://localhost:8080/",
          "height": 455
        },
        "id": "0-bJDbDq9PFc",
        "outputId": "76248d75-f9d4-4bcd-9b49-70ba563a51c9"
      },
      "execution_count": 86,
      "outputs": [
        {
          "output_type": "stream",
          "name": "stdout",
          "text": [
            "preparation_course  completed       none\n",
            "math_score          69.695531  64.077882\n",
            "reading_score       73.893855  66.534268\n",
            "writing_score       74.418994  64.504673\n",
            "average_score       72.669469  65.038801\n"
          ]
        },
        {
          "output_type": "display_data",
          "data": {
            "text/plain": [
              "<Figure size 432x288 with 1 Axes>"
            ],
            "image/png": "[encoded data removed]"
          },
          "metadata": {
            "needs_background": "light"
          }
        },
        {
          "output_type": "stream",
          "name": "stdout",
          "text": [
            "\n",
            "Bar chart can clealy shows the difference between preparation course\n"
          ]
        }
      ]
    },
    {
      "cell_type": "code",
      "source": [
        "# show the ratio of student lunch plan\n",
        "b = df.groupby(['lunch'])['lunch'].count()\n",
        "print(b)\n",
        "\n",
        "# plot\n",
        "plt.pie(b, autopct='%1.1f%%')\n",
        "plt.title('Ratio of student lunch plan')\n",
        "plt.legend(labels=['free/reduces','standard'])\n",
        "plt.show()\n",
        "\n",
        "print(\"\\nPie chart can clealy shows the ratio of student lunch plan\")"
      ],
      "metadata": {
        "colab": {
          "base_uri": "https://localhost:8080/",
          "height": 371
        },
        "id": "Wx3xM4PD9PIj",
        "outputId": "d92517c6-dcc0-4b8d-e5bd-527303d08abe"
      },
      "execution_count": 87,
      "outputs": [
        {
          "output_type": "stream",
          "name": "stdout",
          "text": [
            "lunch\n",
            "free/reduced    355\n",
            "standard        645\n",
            "Name: lunch, dtype: int64\n"
          ]
        },
        {
          "output_type": "display_data",
          "data": {
            "text/plain": [
              "<Figure size 432x288 with 1 Axes>"
            ],
            "image/png": "[encoded data removed]"
          },
          "metadata": {}
        },
        {
          "output_type": "stream",
          "name": "stdout",
          "text": [
            "\n",
            "Pie chart can clealy shows the ratio of student lunch plan\n"
          ]
        }
      ]
    },
    {
      "cell_type": "code",
      "source": [
        "# show the mean, median, max, and min of average score\n",
        "c = df['average_score']\n",
        "plt.boxplot(c)\n",
        "plt.xlabel('Math score')\n",
        "plt.ylabel('Score')\n",
        "plt.show()\n",
        "print(\"\\nBoxplot chart can clealy shows the mean, median, max, and min of average score\")"
      ],
      "metadata": {
        "colab": {
          "base_uri": "https://localhost:8080/",
          "height": 315
        },
        "id": "b5TuucdR9PLc",
        "outputId": "14292448-f150-406d-869e-10a1e166d642"
      },
      "execution_count": 88,
      "outputs": [
        {
          "output_type": "display_data",
          "data": {
            "text/plain": [
              "<Figure size 432x288 with 1 Axes>"
            ],
            "image/png": "[encoded data removed]"
          },
          "metadata": {
            "needs_background": "light"
          }
        },
        {
          "output_type": "stream",
          "name": "stdout",
          "text": [
            "\n",
            "Boxplot chart can clealy shows the mean, median, max, and min of average score\n"
          ]
        }
      ]
    },
    {
      "cell_type": "code",
      "source": [
        "# show the average test score by gender\n",
        "d = df.groupby(['gender'])['average_score'].mean()\n",
        "print(d)\n",
        "\n",
        "# plot\n",
        "plt.bar(['females','males'], d, color=['red', 'blue'])\n",
        "plt.title('Average test score by gender')\n",
        "plt.ylim(50)\n",
        "plt.show()\n",
        "\n",
        "print(\"\\nPie chart can clealy shows the average test score by gender\")"
      ],
      "metadata": {
        "colab": {
          "base_uri": "https://localhost:8080/",
          "height": 388
        },
        "id": "cTVpZJ0_9POC",
        "outputId": "66d63f5b-2733-40ec-fe8d-64f30b1d9fb1"
      },
      "execution_count": 89,
      "outputs": [
        {
          "output_type": "stream",
          "name": "stdout",
          "text": [
            "gender\n",
            "female    69.569498\n",
            "male      65.837303\n",
            "Name: average_score, dtype: float64\n"
          ]
        },
        {
          "output_type": "display_data",
          "data": {
            "text/plain": [
              "<Figure size 432x288 with 1 Axes>"
            ],
            "image/png": "[encoded data removed]"
          },
          "metadata": {
            "needs_background": "light"
          }
        },
        {
          "output_type": "stream",
          "name": "stdout",
          "text": [
            "\n",
            "Pie chart can clealy shows the average test score by gender\n"
          ]
        }
      ]
    },
    {
      "cell_type": "code",
      "source": [
        "# show does lunch plan affect average score\n",
        "e = df.groupby(['lunch'])['average_score'].mean()\n",
        "print(e)\n",
        "\n",
        "# plot\n",
        "plt.bar(['free/reduced','standard'], e)\n",
        "plt.title('Lunch versus Average Score')\n",
        "plt.ylim(50)\n",
        "plt.show()\n",
        "\n",
        "print(\"\\nBar chart can clealy shows the average test score by lunch plan\")"
      ],
      "metadata": {
        "colab": {
          "base_uri": "https://localhost:8080/",
          "height": 388
        },
        "id": "MlXmdrCVKUwv",
        "outputId": "0e50cd3d-b692-4cd0-d6f7-a01b5c80998a"
      },
      "execution_count": 90,
      "outputs": [
        {
          "output_type": "stream",
          "name": "stdout",
          "text": [
            "lunch\n",
            "free/reduced    62.198986\n",
            "standard        70.837116\n",
            "Name: average_score, dtype: float64\n"
          ]
        },
        {
          "output_type": "display_data",
          "data": {
            "text/plain": [
              "<Figure size 432x288 with 1 Axes>"
            ],
            "image/png": "[encoded data removed]"
          },
          "metadata": {
            "needs_background": "light"
          }
        },
        {
          "output_type": "stream",
          "name": "stdout",
          "text": [
            "\n",
            "Bar chart can clealy shows the average test score by lunch plan\n"
          ]
        }
      ]
    }
  ]
}