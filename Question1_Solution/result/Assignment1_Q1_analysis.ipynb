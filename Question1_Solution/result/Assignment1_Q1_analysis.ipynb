{
  "nbformat": 4,
  "nbformat_minor": 0,
  "metadata": {
    "colab": {
      "provenance": []
    },
    "kernelspec": {
      "name": "python3",
      "display_name": "Python 3"
    },
    "language_info": {
      "name": "python"
    }
  },
  "cells": [
    {
      "cell_type": "code",
      "execution_count": 1,
      "metadata": {
        "id": "317K3H4-IZIf"
      },
      "outputs": [],
      "source": [
        "# import necessary libraries\n",
        "import pandas as pd\n",
        "import matplotlib.pyplot as plt\n",
        "import numpy as np"
      ]
    },
    {
      "cell_type": "code",
      "source": [
        "# read the CSV file\n",
        "df = pd.read_csv('/content/Assign1_Q1_data_clean.csv',)\n",
        "df = df.drop(df.columns[0], axis=1)\n",
        "df.head()"
      ],
      "metadata": {
        "colab": {
          "base_uri": "https://localhost:8080/",
          "height": 206
        },
        "id": "hPU37VLNIa-d",
        "outputId": "86586742-fae5-409b-9c7a-5e0d06339a71"
      },
      "execution_count": 2,
      "outputs": [
        {
          "output_type": "execute_result",
          "data": {
            "text/plain": [
              "   Height_inches  Weight_pounds  Age  Grip_strength Frailty    BMI\n",
              "0           65.8            112   30             30       N  18.19\n",
              "1           71.5            136   19             31       N  18.70\n",
              "2           69.4            153   45             29       N  22.33\n",
              "3           68.2            142   22             28       Y  21.46\n",
              "4           67.8            144   29             24       Y  22.02"
            ],
            "text/html": [
              "\n",
              "  <div id=\"df-11428f3e-0cac-4e2c-b684-aeb161b1099d\">\n",
              "    <div class=\"colab-df-container\">\n",
              "      <div>\n",
              "<style scoped>\n",
              "    .dataframe tbody tr th:only-of-type {\n",
              "        vertical-align: middle;\n",
              "    }\n",
              "\n",
              "    .dataframe tbody tr th {\n",
              "        vertical-align: top;\n",
              "    }\n",
              "\n",
              "    .dataframe thead th {\n",
              "        text-align: right;\n",
              "    }\n",
              "</style>\n",
              "<table border=\"1\" class=\"dataframe\">\n",
              "  <thead>\n",
              "    <tr style=\"text-align: right;\">\n",
              "      <th></th>\n",
              "      <th>Height_inches</th>\n",
              "      <th>Weight_pounds</th>\n",
              "      <th>Age</th>\n",
              "      <th>Grip_strength</th>\n",
              "      <th>Frailty</th>\n",
              "      <th>BMI</th>\n",
              "    </tr>\n",
              "  </thead>\n",
              "  <tbody>\n",
              "    <tr>\n",
              "      <th>0</th>\n",
              "      <td>65.8</td>\n",
              "      <td>112</td>\n",
              "      <td>30</td>\n",
              "      <td>30</td>\n",
              "      <td>N</td>\n",
              "      <td>18.19</td>\n",
              "    </tr>\n",
              "    <tr>\n",
              "      <th>1</th>\n",
              "      <td>71.5</td>\n",
              "      <td>136</td>\n",
              "      <td>19</td>\n",
              "      <td>31</td>\n",
              "      <td>N</td>\n",
              "      <td>18.70</td>\n",
              "    </tr>\n",
              "    <tr>\n",
              "      <th>2</th>\n",
              "      <td>69.4</td>\n",
              "      <td>153</td>\n",
              "      <td>45</td>\n",
              "      <td>29</td>\n",
              "      <td>N</td>\n",
              "      <td>22.33</td>\n",
              "    </tr>\n",
              "    <tr>\n",
              "      <th>3</th>\n",
              "      <td>68.2</td>\n",
              "      <td>142</td>\n",
              "      <td>22</td>\n",
              "      <td>28</td>\n",
              "      <td>Y</td>\n",
              "      <td>21.46</td>\n",
              "    </tr>\n",
              "    <tr>\n",
              "      <th>4</th>\n",
              "      <td>67.8</td>\n",
              "      <td>144</td>\n",
              "      <td>29</td>\n",
              "      <td>24</td>\n",
              "      <td>Y</td>\n",
              "      <td>22.02</td>\n",
              "    </tr>\n",
              "  </tbody>\n",
              "</table>\n",
              "</div>\n",
              "      <button class=\"colab-df-convert\" onclick=\"convertToInteractive('df-11428f3e-0cac-4e2c-b684-aeb161b1099d')\"\n",
              "              title=\"Convert this dataframe to an interactive table.\"\n",
              "              style=\"display:none;\">\n",
              "        \n",
              "  <svg xmlns=\"http://www.w3.org/2000/svg\" height=\"24px\"viewBox=\"0 0 24 24\"\n",
              "       width=\"24px\">\n",
              "    <path d=\"M0 0h24v24H0V0z\" fill=\"none\"/>\n",
              "    <path d=\"M18.56 5.44l.94 2.06.94-2.06 2.06-.94-2.06-.94-.94-2.06-.94 2.06-2.06.94zm-11 1L8.5 8.5l.94-2.06 2.06-.94-2.06-.94L8.5 2.5l-.94 2.06-2.06.94zm10 10l.94 2.06.94-2.06 2.06-.94-2.06-.94-.94-2.06-.94 2.06-2.06.94z\"/><path d=\"M17.41 7.96l-1.37-1.37c-.4-.4-.92-.59-1.43-.59-.52 0-1.04.2-1.43.59L10.3 9.45l-7.72 7.72c-.78.78-.78 2.05 0 2.83L4 21.41c.39.39.9.59 1.41.59.51 0 1.02-.2 1.41-.59l7.78-7.78 2.81-2.81c.8-.78.8-2.07 0-2.86zM5.41 20L4 18.59l7.72-7.72 1.47 1.35L5.41 20z\"/>\n",
              "  </svg>\n",
              "      </button>\n",
              "      \n",
              "  <style>\n",
              "    .colab-df-container {\n",
              "      display:flex;\n",
              "      flex-wrap:wrap;\n",
              "      gap: 12px;\n",
              "    }\n",
              "\n",
              "    .colab-df-convert {\n",
              "      background-color: #E8F0FE;\n",
              "      border: none;\n",
              "      border-radius: 50%;\n",
              "      cursor: pointer;\n",
              "      display: none;\n",
              "      fill: #1967D2;\n",
              "      height: 32px;\n",
              "      padding: 0 0 0 0;\n",
              "      width: 32px;\n",
              "    }\n",
              "\n",
              "    .colab-df-convert:hover {\n",
              "      background-color: #E2EBFA;\n",
              "      box-shadow: 0px 1px 2px rgba(60, 64, 67, 0.3), 0px 1px 3px 1px rgba(60, 64, 67, 0.15);\n",
              "      fill: #174EA6;\n",
              "    }\n",
              "\n",
              "    [theme=dark] .colab-df-convert {\n",
              "      background-color: #3B4455;\n",
              "      fill: #D2E3FC;\n",
              "    }\n",
              "\n",
              "    [theme=dark] .colab-df-convert:hover {\n",
              "      background-color: #434B5C;\n",
              "      box-shadow: 0px 1px 3px 1px rgba(0, 0, 0, 0.15);\n",
              "      filter: drop-shadow(0px 1px 2px rgba(0, 0, 0, 0.3));\n",
              "      fill: #FFFFFF;\n",
              "    }\n",
              "  </style>\n",
              "\n",
              "      <script>\n",
              "        const buttonEl =\n",
              "          document.querySelector('#df-11428f3e-0cac-4e2c-b684-aeb161b1099d button.colab-df-convert');\n",
              "        buttonEl.style.display =\n",
              "          google.colab.kernel.accessAllowed ? 'block' : 'none';\n",
              "\n",
              "        async function convertToInteractive(key) {\n",
              "          const element = document.querySelector('#df-11428f3e-0cac-4e2c-b684-aeb161b1099d');\n",
              "          const dataTable =\n",
              "            await google.colab.kernel.invokeFunction('convertToInteractive',\n",
              "                                                     [key], {});\n",
              "          if (!dataTable) return;\n",
              "\n",
              "          const docLinkHtml = 'Like what you see? Visit the ' +\n",
              "            '<a target=\"_blank\" href=https://colab.research.google.com/notebooks/data_table.ipynb>data table notebook</a>'\n",
              "            + ' to learn more about interactive tables.';\n",
              "          element.innerHTML = '';\n",
              "          dataTable['output_type'] = 'display_data';\n",
              "          await google.colab.output.renderOutput(dataTable, element);\n",
              "          const docLink = document.createElement('div');\n",
              "          docLink.innerHTML = docLinkHtml;\n",
              "          element.appendChild(docLink);\n",
              "        }\n",
              "      </script>\n",
              "    </div>\n",
              "  </div>\n",
              "  "
            ]
          },
          "metadata": {},
          "execution_count": 2
        }
      ]
    },
    {
      "cell_type": "code",
      "source": [
        "# show the relationship between Height and Weight\n",
        "# create a linear regression\n",
        "from sklearn.linear_model import LinearRegression\n",
        "X1 = df.iloc[:, 0].values.reshape(-1, 1)\n",
        "Y1 = df.iloc[:, 1].values.reshape(-1, 1)\n",
        "linear_regressor1 = LinearRegression()\n",
        "linear_regressor1.fit(X1, Y1)\n",
        "Y_pred1 = linear_regressor1.predict(X1)\n",
        "\n",
        "# plot\n",
        "plt.scatter(df['Height_inches'],df['Weight_pounds'])\n",
        "plt.plot(X1,Y_pred1, color='red')\n",
        "plt.xlabel('Height(Inches)')\n",
        "plt.ylabel('Weight(Pounds)')\n",
        "plt.title('Height Vs Weight')\n",
        "plt.show()\n",
        "\n",
        "print(\"Scatter plot with linear regression line shows the positive correlation between height and weight\")"
      ],
      "metadata": {
        "colab": {
          "base_uri": "https://localhost:8080/",
          "height": 313
        },
        "id": "ZDls1m_8KLg3",
        "outputId": "83934c16-41a0-4646-a0b6-c38e9ae59eba"
      },
      "execution_count": 3,
      "outputs": [
        {
          "output_type": "display_data",
          "data": {
            "text/plain": [
              "<Figure size 432x288 with 1 Axes>"
            ],
            "image/png": "[encoded data removed]"
          },
          "metadata": {
            "needs_background": "light"
          }
        },
        {
          "output_type": "stream",
          "name": "stdout",
          "text": [
            "Scatter plot with linear regression line shows the positive correlation between height and weight\n"
          ]
        }
      ]
    },
    {
      "cell_type": "code",
      "source": [
        "# show the relationship between age and grip strength\n",
        "# create a linear regression\n",
        "from sklearn.linear_model import LinearRegression\n",
        "X2 = df.iloc[:, 2].values.reshape(-1, 1)\n",
        "Y2 = df.iloc[:, 3].values.reshape(-1, 1)\n",
        "linear_regressor2 = LinearRegression()\n",
        "linear_regressor2.fit(X2, Y2)\n",
        "Y_pred2 = linear_regressor2.predict(X2)\n",
        "\n",
        "# plot\n",
        "plt.scatter(df['Age'],df['Grip_strength'])\n",
        "plt.plot(X2,Y_pred2, color='red')\n",
        "plt.xlabel('Age')\n",
        "plt.ylabel('Grip Strength')\n",
        "plt.title('Age Vs Grip Strength')\n",
        "plt.show()\n",
        "\n",
        "print(\"Scatter plot with linear regression line shows the small correlation between age and grip Strength\")"
      ],
      "metadata": {
        "colab": {
          "base_uri": "https://localhost:8080/",
          "height": 313
        },
        "id": "G8XJDlm6OL40",
        "outputId": "b3ed0703-7175-4926-9d67-89e7df2b6bf5"
      },
      "execution_count": 4,
      "outputs": [
        {
          "output_type": "display_data",
          "data": {
            "text/plain": [
              "<Figure size 432x288 with 1 Axes>"
            ],
            "image/png": "[encoded data removed]"
          },
          "metadata": {
            "needs_background": "light"
          }
        },
        {
          "output_type": "stream",
          "name": "stdout",
          "text": [
            "Scatter plot with linear regression line shows the small correlation between age and grip Strength\n"
          ]
        }
      ]
    },
    {
      "cell_type": "code",
      "source": [
        "# show the relationship between age and bmi\n",
        "# create a linear regression\n",
        "from sklearn.linear_model import LinearRegression\n",
        "X3 = df.iloc[:, 2].values.reshape(-1, 1)\n",
        "Y3 = df.iloc[:, 5].values.reshape(-1, 1)\n",
        "linear_regressor3 = LinearRegression()\n",
        "linear_regressor3.fit(X3, Y3)\n",
        "Y_pred3 = linear_regressor3.predict(X3)\n",
        "\n",
        "# plot\n",
        "plt.scatter(df['Age'],df['BMI'])\n",
        "plt.plot(X3,Y_pred3, color='red')\n",
        "plt.xlabel('Age')\n",
        "plt.ylabel('BMI')\n",
        "plt.title('Age Vs BMI')\n",
        "plt.show()\n",
        "\n",
        "print(\"Scatter plot with linear regression line shows the small correlation between age and bmi\")"
      ],
      "metadata": {
        "colab": {
          "base_uri": "https://localhost:8080/",
          "height": 313
        },
        "id": "lVSH4pCUO2RG",
        "outputId": "f06e3d77-8029-42ad-d98c-b0eab86e0fa4"
      },
      "execution_count": 5,
      "outputs": [
        {
          "output_type": "display_data",
          "data": {
            "text/plain": [
              "<Figure size 432x288 with 1 Axes>"
            ],
            "image/png": "[encoded data removed]"
          },
          "metadata": {
            "needs_background": "light"
          }
        },
        {
          "output_type": "stream",
          "name": "stdout",
          "text": [
            "Scatter plot with linear regression line shows the small correlation between age and bmi\n"
          ]
        }
      ]
    },
    {
      "cell_type": "code",
      "source": [
        "# show the ratio of frailty\n",
        "b = df.groupby(['Frailty'])['Frailty'].count()\n",
        "print(b)\n",
        "\n",
        "# plot\n",
        "plt.pie(b, autopct='%1.1f%%')\n",
        "plt.title('Ratio of Frailty')\n",
        "plt.legend(labels=['No','Yes'])\n",
        "plt.show()\n",
        "\n",
        "print(\"\\nPie chart can clealy shows the ratio of frailty\")"
      ],
      "metadata": {
        "colab": {
          "base_uri": "https://localhost:8080/",
          "height": 371
        },
        "id": "Ccl6Dy0MIbA0",
        "outputId": "8575be23-8a37-4734-8d24-54dd8cac120c"
      },
      "execution_count": 6,
      "outputs": [
        {
          "output_type": "stream",
          "name": "stdout",
          "text": [
            "Frailty\n",
            "N    6\n",
            "Y    4\n",
            "Name: Frailty, dtype: int64\n"
          ]
        },
        {
          "output_type": "display_data",
          "data": {
            "text/plain": [
              "<Figure size 432x288 with 1 Axes>"
            ],
            "image/png": "[encoded data removed]"
          },
          "metadata": {}
        },
        {
          "output_type": "stream",
          "name": "stdout",
          "text": [
            "\n",
            "Pie chart can clealy shows the ratio of frailty\n"
          ]
        }
      ]
    },
    {
      "cell_type": "code",
      "source": [
        "# show the average grip strength by frailty\n",
        "d = df.groupby(['Frailty'])['Grip_strength'].mean()\n",
        "print(d)\n",
        "\n",
        "# plot\n",
        "plt.bar(['No','Yes'], d, color=['red', 'blue'])\n",
        "plt.title('Average grip strength by frailty')\n",
        "plt.show()\n",
        "\n",
        "print(\"\\nPie chart can clealy shows the average grip strength by frailty\")"
      ],
      "metadata": {
        "colab": {
          "base_uri": "https://localhost:8080/",
          "height": 388
        },
        "id": "9hA-_uW4IbDM",
        "outputId": "4c505b43-3a94-4bb4-c2e7-c55fdbaa4ef4"
      },
      "execution_count": 7,
      "outputs": [
        {
          "output_type": "stream",
          "name": "stdout",
          "text": [
            "Frailty\n",
            "N    27.666667\n",
            "Y    23.500000\n",
            "Name: Grip_strength, dtype: float64\n"
          ]
        },
        {
          "output_type": "display_data",
          "data": {
            "text/plain": [
              "<Figure size 432x288 with 1 Axes>"
            ],
            "image/png": "[encoded data removed]"
          },
          "metadata": {
            "needs_background": "light"
          }
        },
        {
          "output_type": "stream",
          "name": "stdout",
          "text": [
            "\n",
            "Pie chart can clealy shows the average grip strength by frailty\n"
          ]
        }
      ]
    }
  ]
}